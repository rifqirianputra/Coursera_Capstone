{
    "cells": [
        {
            "cell_type": "code",
            "execution_count": null,
            "metadata": {
                "collapsed": true
            },
            "outputs": [],
            "source": "import pandas as pd\nimport numpy as np\nimport bs4\nimport types\n#!pip install geocoder\nimport geocoder\nfrom bs4 import BeautifulSoup\nfrom urllib.request import urlopen\nurl = \"https://en.wikipedia.org/wiki/List_of_postal_codes_of_Canada:_M\"\nhtml = urlopen(url)\nsoup = BeautifulSoup(html, 'lxml')\ntype(soup)\nbs4.BeautifulSoup"
        },
        {
            "cell_type": "code",
            "execution_count": null,
            "metadata": {},
            "outputs": [],
            "source": "title = soup.title\ntext = soup.get_text()\nsoup.find_all('table')\ntable = soup.find_all('table')\ndf = pd.read_html(str(table))[0]\ndf = df[df != 'Not assigned']\ndf.dropna(inplace=True)\ndf"
        },
        {
            "cell_type": "code",
            "execution_count": null,
            "metadata": {},
            "outputs": [],
            "source": "# The code was removed by Watson Studio for sharing."
        }
    ],
    "metadata": {
        "kernelspec": {
            "display_name": "Python 3.7",
            "language": "python",
            "name": "python3"
        },
        "language_info": {
            "codemirror_mode": {
                "name": "ipython",
                "version": 3
            },
            "file_extension": ".py",
            "mimetype": "text/x-python",
            "name": "python",
            "nbconvert_exporter": "python",
            "pygments_lexer": "ipython3",
            "version": "3.7.9"
        }
    },
    "nbformat": 4,
    "nbformat_minor": 1
}